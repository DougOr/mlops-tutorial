{
 "cells": [
  {
   "cell_type": "code",
   "execution_count": null,
   "id": "744c1bb6-d668-414e-a761-7679275ad12a",
   "metadata": {},
   "outputs": [],
   "source": [
    "# MNIST Digit Classification with PyTorch (Google Colab)"
   ]
  },
  {
   "cell_type": "code",
   "execution_count": null,
   "id": "0d48c423-71ec-440a-a249-1ffe9147a4ab",
   "metadata": {},
   "outputs": [],
   "source": [
    "## Step 1: Install Required Libraries\n",
    "!pip install torch torchvision --upgrade"
   ]
  },
  {
   "cell_type": "code",
   "execution_count": null,
   "id": "724c69e2-d68f-4e51-8786-5287e9e030b6",
   "metadata": {},
   "outputs": [],
   "source": [
    "## Step 2: Import Libraries\n",
    "import torch\n",
    "import torch.nn as nn\n",
    "import torch.optim as optim\n",
    "from torchvision import datasets, transforms\n",
    "from torch.utils.data import DataLoader"
   ]
  },
  {
   "cell_type": "code",
   "execution_count": null,
   "id": "3110ce04-484e-423c-b937-37cb5ba81dec",
   "metadata": {},
   "outputs": [],
   "source": [
    "## Step 3: Define the Model\n",
    "class MNISTClassifier(nn.Module):\n",
    "    def __init__(self):\n",
    "        super(MNISTClassifier, self).__init__()\n",
    "        self.fc1 = nn.Linear(28 * 28, 128)\n",
    "        self.fc2 = nn.Linear(128, 10)\n",
    "\n",
    "    def forward(self, x):\n",
    "        x = x.view(-1, 28 * 28)  # Flatten the input\n",
    "        x = torch.relu(self.fc1(x))\n",
    "        x = self.fc2(x)\n",
    "        return x"
   ]
  },
  {
   "cell_type": "code",
   "execution_count": null,
   "id": "ee9947b1-7c19-442c-9883-81c732515464",
   "metadata": {},
   "outputs": [],
   "source": [
    "## Step 4: Load the MNIST Dataset\n",
    "# Define transformations\n",
    "transform = transforms.Compose([\n",
    "    transforms.ToTensor(),  # Convert images to tensors\n",
    "    transforms.Normalize((0.5,), (0.5,))  # Normalize the data\n",
    "])\n",
    "\n",
    "# Download and load the training data\n",
    "train_dataset = datasets.MNIST(root=\"./data\", train=True, download=True, transform=transform)\n",
    "train_loader = DataLoader(train_dataset, batch_size=64, shuffle=True)## Step 5: Initialize the Model, Loss Function, and Optimizer\n",
    "model = MNISTClassifier()\n",
    "criterion = nn.CrossEntropyLoss()  # Loss function\n",
    "optimizer = optim.Adam(model.parameters(), lr=0.001)  # Optimizer"
   ]
  },
  {
   "cell_type": "code",
   "execution_count": null,
   "id": "0ede1038-db3a-4d58-8e9c-3801d0544f7c",
   "metadata": {},
   "outputs": [],
   "source": [
    "## Step 5: Initialize the Model, Loss Function, and Optimizer\n",
    "model = MNISTClassifier()\n",
    "criterion = nn.CrossEntropyLoss()  # Loss function\n",
    "optimizer = optim.Adam(model.parameters(), lr=0.001)  # Optimizer"
   ]
  },
  {
   "cell_type": "code",
   "execution_count": null,
   "id": "cbada546-aa12-439f-887b-9295acb4ee19",
   "metadata": {},
   "outputs": [],
   "source": [
    "## Step 6: Train the Model\n",
    "for epoch in range(5):  # Train for 5 epochs\n",
    "    running_loss = 0.0\n",
    "    for batch_idx, (data, target) in enumerate(train_loader):\n",
    "        optimizer.zero_grad()  # Zero the gradients\n",
    "        output = model(data)  # Forward pass\n",
    "        loss = criterion(output, target)  # Compute loss\n",
    "        loss.backward()  # Backward pass\n",
    "        optimizer.step()  # Update weights\n",
    "\n",
    "        running_loss += loss.item()\n",
    "        if batch_idx % 100 == 99:  # Print every 100 batches\n",
    "            print(f\"Epoch {epoch + 1}, Batch {batch_idx + 1}, Loss: {running_loss / 100:.4f}\")\n",
    "            running_loss = 0.0"
   ]
  },
  {
   "cell_type": "code",
   "execution_count": null,
   "id": "40c8d15d-4adb-4696-a41a-70dc56f04ce7",
   "metadata": {},
   "outputs": [],
   "source": [
    "## Step 7: Save the Trained Model\n",
    "torch.save(model.state_dict(), \"mnist_model.pth\")\n",
    "print(\"Model saved as mnist_model.pth\")"
   ]
  },
  {
   "cell_type": "code",
   "execution_count": null,
   "id": "d6a492cd-74de-4c78-a3c9-a4051961aa74",
   "metadata": {},
   "outputs": [],
   "source": [
    "## Step 8: Download the Model (for Colab)\n",
    "from google.colab import files\n",
    "files.download(\"mnist_model.pth\")"
   ]
  }
 ],
 "metadata": {
  "kernelspec": {
   "display_name": "Python 3 (ipykernel)",
   "language": "python",
   "name": "python3"
  },
  "language_info": {
   "codemirror_mode": {
    "name": "ipython",
    "version": 3
   },
   "file_extension": ".py",
   "mimetype": "text/x-python",
   "name": "python",
   "nbconvert_exporter": "python",
   "pygments_lexer": "ipython3",
   "version": "3.12.3"
  }
 },
 "nbformat": 4,
 "nbformat_minor": 5
}
