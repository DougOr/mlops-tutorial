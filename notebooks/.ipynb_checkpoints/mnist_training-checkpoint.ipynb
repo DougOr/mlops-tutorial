{
 "cells": [
  {
   "cell_type": "code",
   "execution_count": 1,
   "id": "9c9a01c2-67de-4c17-9a34-09c2d6a7b654",
   "metadata": {},
   "outputs": [],
   "source": [
    "# MNIST Digit Classification with PyTorch (Google Colab)"
   ]
  },
  {
   "cell_type": "code",
   "execution_count": 1,
   "id": "01ea1a1f-c398-41db-bae7-f7c3e07d95d0",
   "metadata": {},
   "outputs": [],
   "source": [
    "## Step 1: Import Libraries\n",
    "import torch\n",
    "import torch.nn as nn\n",
    "import torch.optim as optim\n",
    "from torchvision import datasets, transforms\n",
    "from torch.utils.data import DataLoader"
   ]
  },
  {
   "cell_type": "code",
   "execution_count": 2,
   "id": "a0e1bc82-1cea-4852-a0af-429cb40bf7e8",
   "metadata": {},
   "outputs": [],
   "source": [
    "## Step 2: Define the Model\n",
    "class MNISTClassifier(nn.Module):\n",
    "    def __init__(self):\n",
    "        super(MNISTClassifier, self).__init__()\n",
    "        self.fc1 = nn.Linear(28 * 28, 128)\n",
    "        self.fc2 = nn.Linear(128, 10)\n",
    "\n",
    "    def forward(self, x):\n",
    "        x = x.view(-1, 28 * 28)  # Flatten the input\n",
    "        x = torch.relu(self.fc1(x))\n",
    "        x = self.fc2(x)\n",
    "        return x"
   ]
  },
  {
   "cell_type": "code",
   "execution_count": 3,
   "id": "ecadf709-ef2b-4036-b750-d6b03c46e785",
   "metadata": {},
   "outputs": [
    {
     "name": "stderr",
     "output_type": "stream",
     "text": [
      "100%|██████████████████████████████████████████████████████████████████████████████| 9.91M/9.91M [00:00<00:00, 20.8MB/s]\n",
      "100%|███████████████████████████████████████████████████████████████████████████████| 28.9k/28.9k [00:00<00:00, 457kB/s]\n",
      "100%|███████████████████████████████████████████████████████████████████████████████| 1.65M/1.65M [00:02<00:00, 624kB/s]\n",
      "100%|██████████████████████████████████████████████████████████████████████████████| 4.54k/4.54k [00:00<00:00, 4.44MB/s]\n"
     ]
    }
   ],
   "source": [
    "## Step 3: Load the MNIST Dataset\n",
    "# Define transformations\n",
    "transform = transforms.Compose([\n",
    "    transforms.ToTensor(),  # Convert images to tensors\n",
    "    transforms.Normalize((0.5,), (0.5,))  # Normalize the data\n",
    "])\n",
    "\n",
    "# Download and load the training data\n",
    "train_dataset = datasets.MNIST(root=\"./data\", train=True, download=True, transform=transform)\n",
    "train_loader = DataLoader(train_dataset, batch_size=64, shuffle=True)"
   ]
  },
  {
   "cell_type": "code",
   "execution_count": 4,
   "id": "0dfec5aa-9eaf-40a3-818c-91ebc12d91bc",
   "metadata": {},
   "outputs": [],
   "source": [
    "## Step 4: Initialize the Model, Loss Function, and Optimizer\n",
    "model = MNISTClassifier()\n",
    "criterion = nn.CrossEntropyLoss()  # Loss function\n",
    "optimizer = optim.Adam(model.parameters(), lr=0.001)  # Optimizer"
   ]
  },
  {
   "cell_type": "code",
   "execution_count": 5,
   "id": "c46a2db4-9d22-401b-9dd9-ab9c61cf7f36",
   "metadata": {},
   "outputs": [
    {
     "name": "stdout",
     "output_type": "stream",
     "text": [
      "Epoch 1, Batch 100, Loss: 0.9229\n",
      "Epoch 1, Batch 200, Loss: 0.4283\n",
      "Epoch 1, Batch 300, Loss: 0.3795\n",
      "Epoch 1, Batch 400, Loss: 0.3481\n",
      "Epoch 1, Batch 500, Loss: 0.3274\n",
      "Epoch 1, Batch 600, Loss: 0.2996\n",
      "Epoch 1, Batch 700, Loss: 0.2926\n",
      "Epoch 1, Batch 800, Loss: 0.2817\n",
      "Epoch 1, Batch 900, Loss: 0.2745\n",
      "Epoch 2, Batch 100, Loss: 0.2303\n",
      "Epoch 2, Batch 200, Loss: 0.2242\n",
      "Epoch 2, Batch 300, Loss: 0.2274\n",
      "Epoch 2, Batch 400, Loss: 0.2109\n",
      "Epoch 2, Batch 500, Loss: 0.2077\n",
      "Epoch 2, Batch 600, Loss: 0.1992\n",
      "Epoch 2, Batch 700, Loss: 0.1981\n",
      "Epoch 2, Batch 800, Loss: 0.1809\n",
      "Epoch 2, Batch 900, Loss: 0.1739\n",
      "Epoch 3, Batch 100, Loss: 0.1579\n",
      "Epoch 3, Batch 200, Loss: 0.1577\n",
      "Epoch 3, Batch 300, Loss: 0.1419\n",
      "Epoch 3, Batch 400, Loss: 0.1569\n",
      "Epoch 3, Batch 500, Loss: 0.1530\n",
      "Epoch 3, Batch 600, Loss: 0.1421\n",
      "Epoch 3, Batch 700, Loss: 0.1409\n",
      "Epoch 3, Batch 800, Loss: 0.1394\n",
      "Epoch 3, Batch 900, Loss: 0.1541\n",
      "Epoch 4, Batch 100, Loss: 0.1296\n",
      "Epoch 4, Batch 200, Loss: 0.1208\n",
      "Epoch 4, Batch 300, Loss: 0.1235\n",
      "Epoch 4, Batch 400, Loss: 0.1219\n",
      "Epoch 4, Batch 500, Loss: 0.1151\n",
      "Epoch 4, Batch 600, Loss: 0.1187\n",
      "Epoch 4, Batch 700, Loss: 0.1173\n",
      "Epoch 4, Batch 800, Loss: 0.1211\n",
      "Epoch 4, Batch 900, Loss: 0.1255\n",
      "Epoch 5, Batch 100, Loss: 0.1090\n",
      "Epoch 5, Batch 200, Loss: 0.1022\n",
      "Epoch 5, Batch 300, Loss: 0.0973\n",
      "Epoch 5, Batch 400, Loss: 0.1082\n",
      "Epoch 5, Batch 500, Loss: 0.0897\n",
      "Epoch 5, Batch 600, Loss: 0.1031\n",
      "Epoch 5, Batch 700, Loss: 0.0901\n",
      "Epoch 5, Batch 800, Loss: 0.1044\n",
      "Epoch 5, Batch 900, Loss: 0.0993\n"
     ]
    }
   ],
   "source": [
    "## Step 5: Train the Model\n",
    "for epoch in range(5):  # Train for 5 epochs\n",
    "    running_loss = 0.0\n",
    "    for batch_idx, (data, target) in enumerate(train_loader):\n",
    "        optimizer.zero_grad()  # Zero the gradients\n",
    "        output = model(data)  # Forward pass\n",
    "        loss = criterion(output, target)  # Compute loss\n",
    "        loss.backward()  # Backward pass\n",
    "        optimizer.step()  # Update weights\n",
    "\n",
    "        running_loss += loss.item()\n",
    "        if batch_idx % 100 == 99:  # Print every 100 batches\n",
    "            print(f\"Epoch {epoch + 1}, Batch {batch_idx + 1}, Loss: {running_loss / 100:.4f}\")\n",
    "            running_loss = 0.0"
   ]
  },
  {
   "cell_type": "code",
   "execution_count": 6,
   "id": "0a32f129-2bf9-4732-8099-f8c596000be4",
   "metadata": {},
   "outputs": [
    {
     "name": "stdout",
     "output_type": "stream",
     "text": [
      "Model saved as mnist_model.pth\n"
     ]
    }
   ],
   "source": [
    "## Step 6: Save the Trained Model\n",
    "torch.save(model.state_dict(), \"../models/mnist_model.pth\")\n",
    "print(\"Model saved as mnist_model.pth\")"
   ]
  },
  {
   "cell_type": "code",
   "execution_count": null,
   "id": "2ce9be20-7b1f-4dac-9417-c91a00ab9de3",
   "metadata": {},
   "outputs": [],
   "source": []
  }
 ],
 "metadata": {
  "kernelspec": {
   "display_name": "Python 3 (ipykernel)",
   "language": "python",
   "name": "python3"
  },
  "language_info": {
   "codemirror_mode": {
    "name": "ipython",
    "version": 3
   },
   "file_extension": ".py",
   "mimetype": "text/x-python",
   "name": "python",
   "nbconvert_exporter": "python",
   "pygments_lexer": "ipython3",
   "version": "3.12.3"
  }
 },
 "nbformat": 4,
 "nbformat_minor": 5
}
